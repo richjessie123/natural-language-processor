{
 "cells": [
  {
   "cell_type": "markdown",
   "id": "2979bbd1-bd81-410b-bb98-fce90b34ed15",
   "metadata": {},
   "source": [
    "# Load the book"
   ]
  },
  {
   "cell_type": "code",
   "execution_count": 1,
   "id": "15a8ea43-aac0-4f48-b2cc-0fc48fd309bf",
   "metadata": {},
   "outputs": [],
   "source": [
    "with open(\"miracle_in_the_andes.txt\", \"r\") as file:\n",
    "    book = file.read()"
   ]
  },
  {
   "cell_type": "markdown",
   "id": "460a22ce-9233-4dbb-b1c9-3f650f74ca61",
   "metadata": {},
   "source": [
    "# How many chapters?"
   ]
  },
  {
   "cell_type": "markdown",
   "id": "629545fa-0c19-4fef-aa1d-782d64e00e93",
   "metadata": {},
   "source": [
    "### Using string method"
   ]
  },
  {
   "cell_type": "code",
   "execution_count": 3,
   "id": "4fa3d7a1-a14f-48ea-b04e-32ef07afb98b",
   "metadata": {},
   "outputs": [
    {
     "data": {
      "text/plain": [
       "11"
      ]
     },
     "execution_count": 3,
     "metadata": {},
     "output_type": "execute_result"
    }
   ],
   "source": [
    "book.count(\"Chapter\")"
   ]
  },
  {
   "cell_type": "markdown",
   "id": "cf63761d-bd19-4e1a-9d43-7ba4044d273d",
   "metadata": {},
   "source": [
    "### Using regex"
   ]
  },
  {
   "cell_type": "code",
   "execution_count": 4,
   "id": "dcae97ca-1140-4ff0-998b-6fa3379005f2",
   "metadata": {},
   "outputs": [],
   "source": [
    "import re"
   ]
  },
  {
   "cell_type": "code",
   "execution_count": 10,
   "id": "03149fd7-732f-4646-abb0-f644eb6551bf",
   "metadata": {},
   "outputs": [
    {
     "data": {
      "text/plain": [
       "10"
      ]
     },
     "execution_count": 10,
     "metadata": {},
     "output_type": "execute_result"
    }
   ],
   "source": [
    "pattern = re.compile(\"Chapter [0-9]+\")\n",
    "findings = re.findall(pattern, book)\n",
    "len(findings)"
   ]
  }
 ],
 "metadata": {
  "kernelspec": {
   "display_name": "Python 3 (ipykernel)",
   "language": "python",
   "name": "python3"
  },
  "language_info": {
   "codemirror_mode": {
    "name": "ipython",
    "version": 3
   },
   "file_extension": ".py",
   "mimetype": "text/x-python",
   "name": "python",
   "nbconvert_exporter": "python",
   "pygments_lexer": "ipython3",
   "version": "3.11.4"
  }
 },
 "nbformat": 4,
 "nbformat_minor": 5
}
