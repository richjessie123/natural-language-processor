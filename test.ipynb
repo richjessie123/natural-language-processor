{
 "cells": [
  {
   "cell_type": "markdown",
   "id": "fdc2f26c-5a5f-4dbd-9ee6-290930353627",
   "metadata": {},
   "source": [
    "# Load the book"
   ]
  },
  {
   "cell_type": "code",
   "execution_count": 1,
   "id": "1ca149d9-26c9-4278-9240-58fd048fc4a4",
   "metadata": {},
   "outputs": [],
   "source": [
    "with open(\"miracle_in_the_andes.txt\", \"r\") as file:\n",
    "    book = file.read()"
   ]
  },
  {
   "cell_type": "markdown",
   "id": "9b304b16-fab7-41d1-8bc3-7ea7a3a88b59",
   "metadata": {},
   "source": [
    "# Extract the paragraphs where love was used"
   ]
  },
  {
   "cell_type": "code",
   "execution_count": 3,
   "id": "2d65af70-e2df-4e3f-9156-01155528cd15",
   "metadata": {},
   "outputs": [],
   "source": [
    "import re"
   ]
  },
  {
   "cell_type": "code",
   "execution_count": 13,
   "id": "e4209db9-8c5d-47cd-ad2a-7574451760c0",
   "metadata": {},
   "outputs": [
    {
     "data": {
      "text/plain": [
       "['To me, this is the essence of rugby. No other sport gives you such an intense sense of selflessness and unified purpose. I believe this is why rugby players all over the world feel such a passion for the game and such a feeling of brotherhood. As a young man, of course, I could not put these things into words, but I knew, and my teammates knew, that there was something special about the game, and under the guidance of the Christian Brothers we developed a passionate love for the sport that shaped our friendships and our lives. For eight years we played our hearts out for the Christian Brothers—a brotherhood of young boys with Latin names, playing a game with deep Anglo roots under Uruguay’s sunny skies, and proudly wearing the bright green shamrock on our uniforms. The game became so much a part of our lives, in fact, that when we graduated from Stella Maris at the age of sixteen, many of us could not bear the thought that our playing days were over. Our salvation came in the form of the Old Christians Club, a private rugby team formed in 1965 by previous alumni of the Stella Maris rugby program to give Stella Maris ruggers a chance to continue playing the game after our school years ended.',\n",
       " 'There were others—Alexis Hounie, Gastón Costemalle, Daniel Shaw—all of them great players and all of them my friends. But my oldest friend was Guido Magri. He and I had met on my first day at the Stella Maris School—I was eight years old and Guido was one year older—and we had been inseparable ever since. Guido and I grew up together, playing soccer and sharing a love of motorcycles, cars, and auto racing. When I was fifteen we both had mopeds that we had modified in silly ways—removing the mufflers, turn signals, and fenders—and we would ride them to Las Delicias, a famous ice cream parlor in our neighborhood, where we would drool over the girls from the nearby School Sagrado Corazón, hoping to impress them with our souped-up scooters. Guido was a dependable friend, with a good sense of humor and an easy laugh. He was also an outstanding scrum half, as quick and smart as a fox, with good hands and great courage. Under the guidance of the Christian Brothers, both of us grew to love the game of rugby with a consuming passion. As seasons passed we worked hard to improve our skills, and by the time I was fifteen we had each earned a spot on the Stella Maris First XV, the team’s starting lineup. After graduation, both of us went on to join the Old Christians and spent several happy seasons pursuing the high-octane social life of young rugby players. That rowdiness came to an abrupt end for Guido in 1969, when he met and fell in love with the beautiful daughter of a Chilean diplomat. She was now his fiancée, and he was happy to behave himself for her sake.']"
      ]
     },
     "execution_count": 13,
     "metadata": {},
     "output_type": "execute_result"
    }
   ],
   "source": [
    "pattern = re.compile(\"[^\\n]+love[^\\n]+\")\n",
    "findings = re.findall(pattern, book)\n",
    "findings[:2]"
   ]
  },
  {
   "cell_type": "markdown",
   "id": "024bde04-d653-4132-ba52-6f3a37156843",
   "metadata": {},
   "source": [
    "# Extract the chapter titles"
   ]
  },
  {
   "cell_type": "markdown",
   "id": "6d2e2e97-72d7-4852-9c8f-6b5f4c166a78",
   "metadata": {},
   "source": [
    "### Method 1"
   ]
  },
  {
   "cell_type": "code",
   "execution_count": 24,
   "id": "996fc78b-9fa0-488b-8cbd-1a322cf79f9b",
   "metadata": {},
   "outputs": [
    {
     "data": {
      "text/plain": [
       "['Before',\n",
       " 'Everything Precious',\n",
       " 'A Promise',\n",
       " 'Breathe Once More',\n",
       " 'Abandoned',\n",
       " 'Tomb',\n",
       " 'East',\n",
       " 'The Opposite of Death',\n",
       " 'I See a Man',\n",
       " 'After']"
      ]
     },
     "execution_count": 24,
     "metadata": {},
     "output_type": "execute_result"
    }
   ],
   "source": [
    "pattern = re.compile(\"[a-zA-Z ]+\\n{2}\")\n",
    "findings = re.findall(pattern, book)\n",
    "findings = [item.strip(\"\\n\\n\") for item in findings]\n",
    "findings"
   ]
  },
  {
   "cell_type": "markdown",
   "id": "51d0176d-a66a-49b1-b1a2-66a3a228037e",
   "metadata": {},
   "source": [
    "### Method 2"
   ]
  },
  {
   "cell_type": "code",
   "execution_count": 25,
   "id": "d5802285-045c-455c-a3e6-1bf5a3bb7e7c",
   "metadata": {},
   "outputs": [
    {
     "data": {
      "text/plain": [
       "['Before',\n",
       " 'Everything Precious',\n",
       " 'A Promise',\n",
       " 'Breathe Once More',\n",
       " 'Abandoned',\n",
       " 'Tomb',\n",
       " 'East',\n",
       " 'The Opposite of Death',\n",
       " 'I See a Man',\n",
       " 'After']"
      ]
     },
     "execution_count": 25,
     "metadata": {},
     "output_type": "execute_result"
    }
   ],
   "source": [
    "pattern = re.compile(\"([a-zA-Z ]+)\\n{2}\")\n",
    "findings = re.findall(pattern, book)\n",
    "findings"
   ]
  },
  {
   "cell_type": "markdown",
   "id": "395ca6e8-5d52-438f-8019-e68b0edc5a91",
   "metadata": {},
   "source": [
    "# Function that finds the occurence of any word"
   ]
  },
  {
   "cell_type": "code",
   "execution_count": 39,
   "id": "036e522f-cdbd-49d0-9c25-eab7525808ee",
   "metadata": {},
   "outputs": [],
   "source": [
    "def find(w):\n",
    "    pattern = re.compile(\"[a-zA-z]+\")\n",
    "    findings = re.findall(pattern, book.lower())\n",
    "    d = {}\n",
    "    for word in findings:\n",
    "        if word in d.keys():\n",
    "            d[word] = d[word] + 1\n",
    "        else:\n",
    "            d[word] = 1\n",
    "    try:\n",
    "        return d[w]\n",
    "    except:\n",
    "        return f\"This book does not contain the word {w}\""
   ]
  },
  {
   "cell_type": "code",
   "execution_count": 43,
   "id": "91ed79a3-ef85-4878-beaa-ef688fe829ce",
   "metadata": {},
   "outputs": [
    {
     "data": {
      "text/plain": [
       "83"
      ]
     },
     "execution_count": 43,
     "metadata": {},
     "output_type": "execute_result"
    }
   ],
   "source": [
    "find(\"love\")"
   ]
  }
 ],
 "metadata": {
  "kernelspec": {
   "display_name": "Python 3 (ipykernel)",
   "language": "python",
   "name": "python3"
  },
  "language_info": {
   "codemirror_mode": {
    "name": "ipython",
    "version": 3
   },
   "file_extension": ".py",
   "mimetype": "text/x-python",
   "name": "python",
   "nbconvert_exporter": "python",
   "pygments_lexer": "ipython3",
   "version": "3.11.4"
  }
 },
 "nbformat": 4,
 "nbformat_minor": 5
}
