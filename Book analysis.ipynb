{
 "cells": [
  {
   "cell_type": "markdown",
   "id": "2979bbd1-bd81-410b-bb98-fce90b34ed15",
   "metadata": {},
   "source": [
    "# Load the book"
   ]
  },
  {
   "cell_type": "code",
   "execution_count": 1,
   "id": "15a8ea43-aac0-4f48-b2cc-0fc48fd309bf",
   "metadata": {},
   "outputs": [],
   "source": [
    "with open(\"miracle_in_the_andes.txt\", \"r\") as file:\n",
    "    book = file.read()"
   ]
  },
  {
   "cell_type": "markdown",
   "id": "460a22ce-9233-4dbb-b1c9-3f650f74ca61",
   "metadata": {},
   "source": [
    "# How many chapters?"
   ]
  },
  {
   "cell_type": "markdown",
   "id": "629545fa-0c19-4fef-aa1d-782d64e00e93",
   "metadata": {},
   "source": [
    "### Using string method"
   ]
  },
  {
   "cell_type": "code",
   "execution_count": 3,
   "id": "4fa3d7a1-a14f-48ea-b04e-32ef07afb98b",
   "metadata": {},
   "outputs": [
    {
     "data": {
      "text/plain": [
       "11"
      ]
     },
     "execution_count": 3,
     "metadata": {},
     "output_type": "execute_result"
    }
   ],
   "source": [
    "book.count(\"Chapter\")"
   ]
  },
  {
   "cell_type": "markdown",
   "id": "cf63761d-bd19-4e1a-9d43-7ba4044d273d",
   "metadata": {},
   "source": [
    "### Using regex"
   ]
  },
  {
   "cell_type": "code",
   "execution_count": 4,
   "id": "dcae97ca-1140-4ff0-998b-6fa3379005f2",
   "metadata": {},
   "outputs": [],
   "source": [
    "import re"
   ]
  },
  {
   "cell_type": "code",
   "execution_count": 10,
   "id": "03149fd7-732f-4646-abb0-f644eb6551bf",
   "metadata": {},
   "outputs": [
    {
     "data": {
      "text/plain": [
       "10"
      ]
     },
     "execution_count": 10,
     "metadata": {},
     "output_type": "execute_result"
    }
   ],
   "source": [
    "pattern = re.compile(\"Chapter [0-9]+\")\n",
    "findings = re.findall(pattern, book)\n",
    "len(findings)"
   ]
  },
  {
   "cell_type": "markdown",
   "id": "ad6cfbb8-07eb-418a-b41f-f2d24a97e3f7",
   "metadata": {},
   "source": [
    "# Which sentences were \"love\" used"
   ]
  },
  {
   "cell_type": "code",
   "execution_count": 26,
   "id": "12887a32-ea10-4455-b173-32de357f8e59",
   "metadata": {},
   "outputs": [
    {
     "data": {
      "text/plain": [
       "67"
      ]
     },
     "execution_count": 26,
     "metadata": {},
     "output_type": "execute_result"
    }
   ],
   "source": [
    "pattern = re.compile(\"[a-zA-z]{1}[^.]*[^a-zA-z]+love[^a-zA-z]+[^.]*.\")\n",
    "findings = re.findall(pattern, book)\n",
    "len(findings)\n",
    "#findings"
   ]
  },
  {
   "cell_type": "markdown",
   "id": "7f3c41e4-cb60-41f5-b2f8-0730e29556c5",
   "metadata": {},
   "source": [
    "# What are the most common words"
   ]
  },
  {
   "cell_type": "code",
   "execution_count": 46,
   "id": "68e765a9-9fa8-44e6-b9c1-5fd51005022b",
   "metadata": {},
   "outputs": [
    {
     "data": {
      "text/plain": [
       "['chapter', 'before', 'it', 'was', 'friday']"
      ]
     },
     "execution_count": 46,
     "metadata": {},
     "output_type": "execute_result"
    }
   ],
   "source": [
    "pattern = re.compile(\"[a-zA-Z]+\")\n",
    "findings = re.findall(pattern, book.lower())\n",
    "findings[:5]"
   ]
  },
  {
   "cell_type": "code",
   "execution_count": 51,
   "id": "16f07ecd-9648-4ea0-a8d7-81015353d51a",
   "metadata": {},
   "outputs": [],
   "source": [
    "d = {}\n",
    "for word in findings:\n",
    "    if word in d.keys():\n",
    "        d[word] = d[word] + 1\n",
    "    else:\n",
    "        d[word] = 1"
   ]
  },
  {
   "cell_type": "code",
   "execution_count": 55,
   "id": "d02bead6-1ad8-498b-8a65-1efd733c2e85",
   "metadata": {},
   "outputs": [
    {
     "data": {
      "text/plain": [
       "[(5346, 'the'), (2795, 'and'), (2729, 'i'), (2400, 'to'), (2060, 'of')]"
      ]
     },
     "execution_count": 55,
     "metadata": {},
     "output_type": "execute_result"
    }
   ],
   "source": [
    "d_list = [(value, key) for key, value in d.items()]\n",
    "d_list = sorted(d_list, reverse=True)\n",
    "d_list[:5]"
   ]
  },
  {
   "cell_type": "markdown",
   "id": "962d8251-16da-4272-bcee-61c7c32fc6f3",
   "metadata": {},
   "source": [
    "# Most used words non-articles"
   ]
  },
  {
   "cell_type": "code",
   "execution_count": 62,
   "id": "041cc7a2-2fcd-4a78-9e21-292fee263aba",
   "metadata": {},
   "outputs": [
    {
     "name": "stdout",
     "output_type": "stream",
     "text": [
      "Requirement already satisfied: nltk in ./venv/lib/python3.11/site-packages (3.8.1)\n",
      "Requirement already satisfied: click in ./venv/lib/python3.11/site-packages (from nltk) (8.1.7)\n",
      "Requirement already satisfied: joblib in ./venv/lib/python3.11/site-packages (from nltk) (1.3.2)\n",
      "Requirement already satisfied: regex>=2021.8.3 in ./venv/lib/python3.11/site-packages (from nltk) (2023.10.3)\n",
      "Requirement already satisfied: tqdm in ./venv/lib/python3.11/site-packages (from nltk) (4.66.1)\n",
      "\n",
      "\u001b[1m[\u001b[0m\u001b[34;49mnotice\u001b[0m\u001b[1;39;49m]\u001b[0m\u001b[39;49m A new release of pip available: \u001b[0m\u001b[31;49m22.3.1\u001b[0m\u001b[39;49m -> \u001b[0m\u001b[32;49m23.3.1\u001b[0m\n",
      "\u001b[1m[\u001b[0m\u001b[34;49mnotice\u001b[0m\u001b[1;39;49m]\u001b[0m\u001b[39;49m To update, run: \u001b[0m\u001b[32;49mpip install --upgrade pip\u001b[0m\n"
     ]
    }
   ],
   "source": [
    "!pip3.11 install nltk"
   ]
  },
  {
   "cell_type": "code",
   "execution_count": null,
   "id": "e77b65f3-e73a-47f8-97e4-11aca52e68ef",
   "metadata": {},
   "outputs": [],
   "source": [
    "import nltk\n",
    "\n",
    "from nltk.corpus import stopwords\n",
    "english_stopwords = stopwords.words(\"english\")\n",
    "\n",
    "filtered_words = []\n",
    "for count, word in d_list:\n",
    "    if word not in english_stopwords:\n",
    "        filtered_words.append((word, count))\n",
    "filtered words"
   ]
  },
  {
   "cell_type": "markdown",
   "id": "b625fff8-76df-45d1-aee2-89dfb86b925b",
   "metadata": {},
   "source": [
    "# Sentiment Analysis: Whats the most positive and negative chapter"
   ]
  },
  {
   "cell_type": "markdown",
   "id": "c5fd2386-71ab-420f-b870-ed310047c9e2",
   "metadata": {},
   "source": [
    "### An example"
   ]
  },
  {
   "cell_type": "code",
   "execution_count": null,
   "id": "0bb02c51-20f6-4ee4-bffe-2c6527ad339b",
   "metadata": {},
   "outputs": [],
   "source": [
    "from nltk.sentiment import SentimentIntensityAnalyzer\n",
    "analyzer = SentimentIntensityAnalyzer()\n",
    "scores = analyzer.polarity_scores(book)\n"
   ]
  },
  {
   "cell_type": "markdown",
   "id": "de7647ca-c90c-476a-827f-71e1d3aa9d80",
   "metadata": {},
   "source": [
    "### Chapters Sentiment Analysis"
   ]
  },
  {
   "cell_type": "code",
   "execution_count": 74,
   "id": "fca20d9e-ad75-4872-87e4-80827e01de26",
   "metadata": {},
   "outputs": [],
   "source": [
    "pattern = re.compile(\"Chapter [0-9]+\")\n",
    "chapters = re.split(pattern, book)\n",
    "chapters = chapters[1:]"
   ]
  },
  {
   "cell_type": "code",
   "execution_count": null,
   "id": "88777ea5-3ca5-4d60-93cb-61e675bccb7f",
   "metadata": {},
   "outputs": [],
   "source": [
    "for nr, chapter in enumerate(chapters):\n",
    "    scores = analyzer.polarity_scores(chapter)\n",
    "    print(nr + 1, scores)"
   ]
  }
 ],
 "metadata": {
  "kernelspec": {
   "display_name": "Python 3 (ipykernel)",
   "language": "python",
   "name": "python3"
  },
  "language_info": {
   "codemirror_mode": {
    "name": "ipython",
    "version": 3
   },
   "file_extension": ".py",
   "mimetype": "text/x-python",
   "name": "python",
   "nbconvert_exporter": "python",
   "pygments_lexer": "ipython3",
   "version": "3.11.4"
  }
 },
 "nbformat": 4,
 "nbformat_minor": 5
}
